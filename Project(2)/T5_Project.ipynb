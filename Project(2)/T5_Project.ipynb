{
  "nbformat": 4,
  "nbformat_minor": 0,
  "metadata": {
    "colab": {
      "provenance": []
    },
    "kernelspec": {
      "name": "python3",
      "display_name": "Python 3"
    },
    "language_info": {
      "name": "python"
    }
  },
  "cells": [
    {
      "cell_type": "code",
      "source": [
        "import pandas as pd"
      ],
      "metadata": {
        "id": "QX-IdzY2kJkR"
      },
      "execution_count": null,
      "outputs": []
    },
    {
      "cell_type": "code",
      "source": [
        "def input_t():\n",
        "    money=float(input(\"Enter your money \"))\n",
        "    cat=input(\"Enter category \")\n",
        "    date=input(\"Enter date \")\n",
        "    return {'money': money, 'category': cat, 'date': date}"
      ],
      "metadata": {
        "id": "lW74SEvXkKeI"
      },
      "execution_count": null,
      "outputs": []
    },
    {
      "cell_type": "code",
      "source": [
        "def cat_t(tran):\n",
        "    cate=input(\"enter category \") #استقبال كاتقري\n",
        "    tran['category']=cate #اضافة"
      ],
      "metadata": {
        "id": "YsHrQEW1kOK_"
      },
      "execution_count": null,
      "outputs": []
    },
    {
      "cell_type": "code",
      "source": [
        "def basic_rep(trans):\n",
        "    df=pd.DataFrame(trans)\n",
        "    spend=0\n",
        "    income=0\n",
        "    cat_spend={}\n",
        "    cat_tran={}\n",
        "    for t in trans:\n",
        "        money= t['money']\n",
        "        cat= t['category']\n",
        "        if money <0:\n",
        "            spend += money\n",
        "        if money >0:                  #هنا نحدد الفلوس هل هي دخل او صرف\n",
        "            income +=money\n",
        "        if cat in cat_spend:\n",
        "          cat_spend[cat]+= money\n",
        "          cat_tran[cat] += 1\n",
        "        else:                         #هنا نحدد اذا موجوده بالدكشنري نزود واذا لا نساوي القيم\n",
        "          cat_spend[cat]= money\n",
        "          cat_tran[cat]=1\n",
        "    print(\"the spending \",spend) # ايش اللي تم صرفه\n",
        "    print(\"the income \",income) #ايش المدخل\n",
        "    print(\"category spending \",cat_spend) #المصروف في القاتقري الواحد\n",
        "    print(\"category transactions \",cat_tran) #العمليات اللي بالكاتقري الواحد"
      ],
      "metadata": {
        "id": "yGYuHPKIkRYb"
      },
      "execution_count": null,
      "outputs": []
    },
    {
      "cell_type": "code",
      "source": [
        "def view_t(trans):\n",
        "    df = pd.DataFrame(trans)\n",
        "    print(df)"
      ],
      "metadata": {
        "id": "0WQmsnrpkT8f"
      },
      "execution_count": null,
      "outputs": []
    },
    {
      "cell_type": "code",
      "source": [
        "def update_t(trans):\n",
        "    view_t(trans)\n",
        "    u = int(input(\"enter the index of transaction \"))\n",
        "    if u < 0 or u >= len(trans):\n",
        "        print(\"NOT corect index \")\n",
        "        return\n",
        "    t_u = trans[u]\n",
        "    print(\"transaction: \",t_u) #العملية الحاليه اللي واقف عليها الحين\n",
        "    print(\"enter the new transaction \")\n",
        "    updat_t= input_t()\n",
        "    trans[u] = updat_t #هنا الابديت\n",
        "    print(\"done\")"
      ],
      "metadata": {
        "id": "-DPfLUTGkYPg"
      },
      "execution_count": null,
      "outputs": []
    },
    {
      "cell_type": "code",
      "source": [
        "def delete_t(trans):\n",
        "    view_t(trans)\n",
        "    d = int(input(\"enter the index of the transaction \"))\n",
        "    if d<0 or d>= len(trans): #يشيك على العملية هل هل موجوده ولا لا\n",
        "        print(\"NOT corect index\")\n",
        "        return\n",
        "    del_t= trans.pop(d)\n",
        "    print(\"done\")"
      ],
      "metadata": {
        "id": "bQDKJemHgLwr"
      },
      "execution_count": null,
      "outputs": []
    },
    {
      "cell_type": "code",
      "source": [
        "def save_t(trans, filename):\n",
        "    df = pd.DataFrame(trans)\n",
        "    df.to_csv(filename) #هنا يحفظ العمليات في ملف csv"
      ],
      "metadata": {
        "id": "_Rp6DHkQgN1u"
      },
      "execution_count": null,
      "outputs": []
    },
    {
      "cell_type": "code",
      "source": [
        "def load_t(filename): # هنا يقرا الملف عشان ناخذ منه العملية\n",
        "    try:\n",
        "        df = pd.read_csv(filename)\n",
        "        trans = df.to_dict('records')\n",
        "        return trans\n",
        "    except FileNotFoundError:\n",
        "        return [] # هنا لو جاني انبوت فاضي راح يرجع لسته فاضيه"
      ],
      "metadata": {
        "id": "T-LyajpmgPp1"
      },
      "execution_count": null,
      "outputs": []
    },
    {
      "cell_type": "code",
      "source": [
        "def main():\n",
        "    username=input(\"enter your username  \")\n",
        "    filename= f\"{username}_transactions.csv\" #ياخذ الملف ويحفظه في متغير\n",
        "    trans =load_t(filename) #هنا يسوي اللود\n",
        "    while True:\n",
        "        print(\"welcome\",username ,\" to Income Tracker System\")\n",
        "        print(\"1 enter transaction \")\n",
        "        print(\"2 enter categorize transaction \")\n",
        "        print(\"3 view transactions \")\n",
        "        print(\"4 delete transactions \")\n",
        "        print(\"5 update transactions \")\n",
        "        print(\"6 basic reports \")\n",
        "        print(\"7 save and exit \")\n",
        "        choice=input(\"your choice: \")\n",
        "        if choice== '1':\n",
        "            t_m= input_t()\n",
        "            trans.append(t_m)\n",
        "        elif choice=='2':\n",
        "            cat_t(trans[-1])\n",
        "        elif choice=='3':\n",
        "            view_t(trans)\n",
        "        elif choice=='4':\n",
        "            delete_t(trans)\n",
        "        elif choice=='5':\n",
        "            update_t(trans)\n",
        "        elif choice=='6':\n",
        "            basic_rep(trans)\n",
        "        elif choice=='7':\n",
        "            save_t(trans, filename)\n",
        "            print(\"goodbye\",username)\n",
        "            break\n",
        "        else:\n",
        "            print(\"oops,wrong choice\")\n",
        "if __name__==\"__main__\":\n",
        "    main()"
      ],
      "metadata": {
        "id": "6-ndAEVEgRxN"
      },
      "execution_count": null,
      "outputs": []
    }
  ]
}